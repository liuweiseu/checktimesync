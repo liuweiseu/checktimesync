{
 "cells": [
  {
   "cell_type": "code",
   "execution_count": 5,
   "metadata": {},
   "outputs": [],
   "source": [
    "import paramiko\n",
    "\n",
    "cmd = \"/wr/bin/wr_date get\"\n",
    "ssh=paramiko.SSHClient()\n",
    "ssh.set_missing_host_key_policy(paramiko.AutoAddPolicy())\n",
    "ssh.connect('10.0.1.36',username='root',password='')\n",
    "ssh_stdin, ssh_stdout, ssh_stderr = ssh.exec_command(cmd)\n",
    "result=ssh_stdout.read()\n",
    "result_str=str(result, encoding = \"utf-8\")"
   ]
  },
  {
   "cell_type": "code",
   "execution_count": 6,
   "metadata": {},
   "outputs": [
    {
     "data": {
      "text/plain": [
       "'1635186046.790275440 TAI\\n2021-10-25 18:20:46.790275440 TAI\\n2021-10-25 18:20:09.790275440 UTC\\n'"
      ]
     },
     "execution_count": 6,
     "metadata": {},
     "output_type": "execute_result"
    }
   ],
   "source": [
    "result_str"
   ]
  },
  {
   "cell_type": "code",
   "execution_count": 16,
   "metadata": {},
   "outputs": [
    {
     "name": "stdout",
     "output_type": "stream",
     "text": [
      "2021-10-25 18:42:23.072134880\n",
      "2021-10-25 18:42:22.712 \n",
      "\n",
      "2021-10-25 18:42:23.316281360\n",
      "2021-10-25 18:42:22.790 \n",
      "\n"
     ]
    }
   ],
   "source": [
    "import paramiko\n",
    "from datetime import datetime\n",
    "from datetime import timezone\n",
    "cmd0 = \"/wr/bin/wr_date get\"\n",
    "cmd1 = \"date +'%T.%9N'\"\n",
    "\n",
    "ssh=paramiko.SSHClient()\n",
    "ssh.set_missing_host_key_policy(paramiko.AutoAddPolicy())\n",
    "ssh.connect('10.0.1.36',username='root',password='')\n",
    "\n",
    "t_current = datetime.utcnow().strftime('%Y-%m-%d %H:%M:%S.%f')[:-3]\n",
    "ssh_stdin, ssh_stdout, ssh_stderr = ssh.exec_command(cmd0)\n",
    "result0=ssh_stdout.read()\n",
    "t_host0 = datetime.utcnow().strftime('%Y-%m-%d %H:%M:%S.%f')[:-3]\n",
    "\n",
    "ssh_stdin, ssh_stdout, ssh_stderr = ssh.exec_command(cmd1)\n",
    "result1=ssh_stdout.read()\n",
    "t_host1 = datetime.utcnow().strftime('%Y-%m-%d %H:%M:%S.%f')[:-3]\n",
    "    \n",
    "result0_str=str(result0, encoding = \"utf-8\")\n",
    "s=result0_str.split(' ')\n",
    "d = s[3].split('\\n')\n",
    "wrs_time = d[1] + ' ' +s[4]\n",
    "sys_time = str(result1, encoding = \"utf-8\")\n",
    "sys_time = sys_time.rstrip('\\n')\n",
    "sys_time = d[1] + ' ' + sys_time\n",
    "print(wrs_time)\n",
    "print(t_host0,'\\n')\n",
    "print(sys_time)\n",
    "print(t_host1,'\\n')"
   ]
  },
  {
   "cell_type": "code",
   "execution_count": 15,
   "metadata": {},
   "outputs": [
    {
     "data": {
      "text/plain": [
       "'3.6.9 (default, Jan 26 2021, 15:33:00) \\n[GCC 8.4.0]'"
      ]
     },
     "execution_count": 15,
     "metadata": {},
     "output_type": "execute_result"
    }
   ],
   "source": [
    "import sys\n",
    "sys.version"
   ]
  },
  {
   "cell_type": "code",
   "execution_count": null,
   "metadata": {},
   "outputs": [],
   "source": []
  }
 ],
 "metadata": {
  "kernelspec": {
   "display_name": "Python 3",
   "language": "python",
   "name": "python3"
  },
  "language_info": {
   "codemirror_mode": {
    "name": "ipython",
    "version": 3
   },
   "file_extension": ".py",
   "mimetype": "text/x-python",
   "name": "python",
   "nbconvert_exporter": "python",
   "pygments_lexer": "ipython3",
   "version": "3.6.9"
  }
 },
 "nbformat": 4,
 "nbformat_minor": 4
}
